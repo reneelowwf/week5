{
 "cells": [
  {
   "cell_type": "markdown",
   "id": "eeb2550d",
   "metadata": {},
   "source": [
    "### Assignment 5 - Pandas - new"
   ]
  },
  {
   "cell_type": "markdown",
   "id": "9fef7bb8",
   "metadata": {},
   "source": [
    "### Learning Outcomes Addressed \n",
    "Analyse the patient arrival dataset of Singapore's major public hospitals using Pandas"
   ]
  },
  {
   "cell_type": "markdown",
   "id": "50dd7a0b",
   "metadata": {},
   "source": [
    "### Assignment Instructions\n",
    "In this assignment, you will analyse the patient arrival dataset of Singapore's major public hospitals. "
   ]
  },
  {
   "cell_type": "code",
   "execution_count": 1,
   "id": "fa7a6b8d",
   "metadata": {},
   "outputs": [],
   "source": [
    "import os\n",
    "cwd = os.getcwd()"
   ]
  },
  {
   "cell_type": "code",
   "execution_count": 2,
   "id": "533ef85c",
   "metadata": {},
   "outputs": [
    {
     "data": {
      "text/plain": [
       "'C:\\\\Users\\\\z0024yfj\\\\Documents\\\\01_Assignment'"
      ]
     },
     "execution_count": 2,
     "metadata": {},
     "output_type": "execute_result"
    }
   ],
   "source": [
    "cwd"
   ]
  },
  {
   "cell_type": "code",
   "execution_count": 3,
   "id": "97d532cd",
   "metadata": {},
   "outputs": [],
   "source": [
    "import pandas as pd\n",
    "df = pd.read_csv('EDdata_new.csv')"
   ]
  },
  {
   "cell_type": "code",
   "execution_count": 4,
   "id": "afb919b0",
   "metadata": {},
   "outputs": [
    {
     "data": {
      "text/html": [
       "<div>\n",
       "<style scoped>\n",
       "    .dataframe tbody tr th:only-of-type {\n",
       "        vertical-align: middle;\n",
       "    }\n",
       "\n",
       "    .dataframe tbody tr th {\n",
       "        vertical-align: top;\n",
       "    }\n",
       "\n",
       "    .dataframe thead th {\n",
       "        text-align: right;\n",
       "    }\n",
       "</style>\n",
       "<table border=\"1\" class=\"dataframe\">\n",
       "  <thead>\n",
       "    <tr style=\"text-align: right;\">\n",
       "      <th></th>\n",
       "      <th>Case</th>\n",
       "      <th>Hospital_Name</th>\n",
       "      <th>REGIS_DATE</th>\n",
       "      <th>REGIS_TIME</th>\n",
       "      <th>reg_sec</th>\n",
       "      <th>Triage Time</th>\n",
       "      <th>triage_sec</th>\n",
       "      <th>Triage_Class</th>\n",
       "      <th>Age</th>\n",
       "      <th>Gender</th>\n",
       "      <th>Race</th>\n",
       "    </tr>\n",
       "  </thead>\n",
       "  <tbody>\n",
       "    <tr>\n",
       "      <th>0</th>\n",
       "      <td>92408</td>\n",
       "      <td>KTPH</td>\n",
       "      <td>7/4/2012</td>\n",
       "      <td>9:48:33</td>\n",
       "      <td>35313</td>\n",
       "      <td>9:58:12</td>\n",
       "      <td>35892</td>\n",
       "      <td>P2</td>\n",
       "      <td>40.0</td>\n",
       "      <td>M</td>\n",
       "      <td>Chinese</td>\n",
       "    </tr>\n",
       "    <tr>\n",
       "      <th>1</th>\n",
       "      <td>54452</td>\n",
       "      <td>KKH</td>\n",
       "      <td>7/10/2011</td>\n",
       "      <td>16:21:05</td>\n",
       "      <td>58865</td>\n",
       "      <td>16:23:42</td>\n",
       "      <td>59022</td>\n",
       "      <td>P2</td>\n",
       "      <td>0.0</td>\n",
       "      <td>M</td>\n",
       "      <td>Chinese</td>\n",
       "    </tr>\n",
       "    <tr>\n",
       "      <th>2</th>\n",
       "      <td>28303</td>\n",
       "      <td>CGH</td>\n",
       "      <td>3/10/2011</td>\n",
       "      <td>3:57:45</td>\n",
       "      <td>14265</td>\n",
       "      <td>4:00:00</td>\n",
       "      <td>14400</td>\n",
       "      <td>P3</td>\n",
       "      <td>33.0</td>\n",
       "      <td>M</td>\n",
       "      <td>Indian</td>\n",
       "    </tr>\n",
       "    <tr>\n",
       "      <th>3</th>\n",
       "      <td>121169</td>\n",
       "      <td>SGH</td>\n",
       "      <td>16/10/2011</td>\n",
       "      <td>4:08:47</td>\n",
       "      <td>14927</td>\n",
       "      <td>4:10:00</td>\n",
       "      <td>15000</td>\n",
       "      <td>P3</td>\n",
       "      <td>53.0</td>\n",
       "      <td>F</td>\n",
       "      <td>Malay</td>\n",
       "    </tr>\n",
       "    <tr>\n",
       "      <th>4</th>\n",
       "      <td>146488</td>\n",
       "      <td>TTSH</td>\n",
       "      <td>24/10/2011</td>\n",
       "      <td>3:09:47</td>\n",
       "      <td>11387</td>\n",
       "      <td>3:14:21</td>\n",
       "      <td>11661</td>\n",
       "      <td>P3</td>\n",
       "      <td>23.0</td>\n",
       "      <td>M</td>\n",
       "      <td>Others</td>\n",
       "    </tr>\n",
       "    <tr>\n",
       "      <th>...</th>\n",
       "      <td>...</td>\n",
       "      <td>...</td>\n",
       "      <td>...</td>\n",
       "      <td>...</td>\n",
       "      <td>...</td>\n",
       "      <td>...</td>\n",
       "      <td>...</td>\n",
       "      <td>...</td>\n",
       "      <td>...</td>\n",
       "      <td>...</td>\n",
       "      <td>...</td>\n",
       "    </tr>\n",
       "    <tr>\n",
       "      <th>41827</th>\n",
       "      <td>38592</td>\n",
       "      <td>CGH</td>\n",
       "      <td>29/10/2011</td>\n",
       "      <td>14:07:15</td>\n",
       "      <td>50835</td>\n",
       "      <td>14:17:00</td>\n",
       "      <td>51420</td>\n",
       "      <td>P2</td>\n",
       "      <td>82.0</td>\n",
       "      <td>F</td>\n",
       "      <td>Chinese</td>\n",
       "    </tr>\n",
       "    <tr>\n",
       "      <th>41828</th>\n",
       "      <td>20523</td>\n",
       "      <td>AH</td>\n",
       "      <td>2/10/2011</td>\n",
       "      <td>7:18:06</td>\n",
       "      <td>26286</td>\n",
       "      <td>7:18:00</td>\n",
       "      <td>26280</td>\n",
       "      <td>P1</td>\n",
       "      <td>88.0</td>\n",
       "      <td>F</td>\n",
       "      <td>Chinese</td>\n",
       "    </tr>\n",
       "    <tr>\n",
       "      <th>41829</th>\n",
       "      <td>30317</td>\n",
       "      <td>CGH</td>\n",
       "      <td>8/10/2011</td>\n",
       "      <td>12:59:42</td>\n",
       "      <td>46782</td>\n",
       "      <td>12:59:00</td>\n",
       "      <td>46740</td>\n",
       "      <td>P2</td>\n",
       "      <td>59.0</td>\n",
       "      <td>M</td>\n",
       "      <td>Malay</td>\n",
       "    </tr>\n",
       "    <tr>\n",
       "      <th>41830</th>\n",
       "      <td>126705</td>\n",
       "      <td>SGH</td>\n",
       "      <td>31/10/2011</td>\n",
       "      <td>9:55:18</td>\n",
       "      <td>35718</td>\n",
       "      <td>10:06:00</td>\n",
       "      <td>36360</td>\n",
       "      <td>P3</td>\n",
       "      <td>54.0</td>\n",
       "      <td>F</td>\n",
       "      <td>Chinese</td>\n",
       "    </tr>\n",
       "    <tr>\n",
       "      <th>41831</th>\n",
       "      <td>110904</td>\n",
       "      <td>NUH</td>\n",
       "      <td>11/4/2012</td>\n",
       "      <td>11:20:27</td>\n",
       "      <td>40827</td>\n",
       "      <td>12:11:00</td>\n",
       "      <td>43860</td>\n",
       "      <td>P3</td>\n",
       "      <td>19.0</td>\n",
       "      <td>F</td>\n",
       "      <td>Chinese</td>\n",
       "    </tr>\n",
       "  </tbody>\n",
       "</table>\n",
       "<p>41832 rows × 11 columns</p>\n",
       "</div>"
      ],
      "text/plain": [
       "         Case Hospital_Name  REGIS_DATE REGIS_TIME  reg_sec Triage Time  \\\n",
       "0       92408          KTPH    7/4/2012    9:48:33    35313     9:58:12   \n",
       "1       54452           KKH   7/10/2011   16:21:05    58865    16:23:42   \n",
       "2       28303           CGH   3/10/2011    3:57:45    14265     4:00:00   \n",
       "3      121169           SGH  16/10/2011    4:08:47    14927     4:10:00   \n",
       "4      146488          TTSH  24/10/2011    3:09:47    11387     3:14:21   \n",
       "...       ...           ...         ...        ...      ...         ...   \n",
       "41827   38592           CGH  29/10/2011   14:07:15    50835    14:17:00   \n",
       "41828   20523            AH   2/10/2011    7:18:06    26286     7:18:00   \n",
       "41829   30317           CGH   8/10/2011   12:59:42    46782    12:59:00   \n",
       "41830  126705           SGH  31/10/2011    9:55:18    35718    10:06:00   \n",
       "41831  110904           NUH   11/4/2012   11:20:27    40827    12:11:00   \n",
       "\n",
       "       triage_sec Triage_Class    Age Gender     Race  \n",
       "0           35892            P2  40.0      M  Chinese  \n",
       "1           59022            P2   0.0      M  Chinese  \n",
       "2           14400            P3  33.0      M   Indian  \n",
       "3           15000            P3  53.0      F    Malay  \n",
       "4           11661            P3  23.0      M   Others  \n",
       "...           ...           ...   ...    ...      ...  \n",
       "41827       51420            P2  82.0      F  Chinese  \n",
       "41828       26280            P1  88.0      F  Chinese  \n",
       "41829       46740            P2  59.0      M    Malay  \n",
       "41830       36360            P3  54.0      F  Chinese  \n",
       "41831       43860            P3  19.0      F  Chinese  \n",
       "\n",
       "[41832 rows x 11 columns]"
      ]
     },
     "execution_count": 4,
     "metadata": {},
     "output_type": "execute_result"
    }
   ],
   "source": [
    "df"
   ]
  },
  {
   "cell_type": "code",
   "execution_count": 8,
   "id": "0e74ac14",
   "metadata": {},
   "outputs": [],
   "source": [
    "# You can assign a column in the dataset as the row index lables.\n",
    "df = pd.read_csv('EDdata_new.csv', index_col = 'Case')"
   ]
  },
  {
   "cell_type": "code",
   "execution_count": 6,
   "id": "53df51db",
   "metadata": {},
   "outputs": [
    {
     "data": {
      "text/html": [
       "<div>\n",
       "<style scoped>\n",
       "    .dataframe tbody tr th:only-of-type {\n",
       "        vertical-align: middle;\n",
       "    }\n",
       "\n",
       "    .dataframe tbody tr th {\n",
       "        vertical-align: top;\n",
       "    }\n",
       "\n",
       "    .dataframe thead th {\n",
       "        text-align: right;\n",
       "    }\n",
       "</style>\n",
       "<table border=\"1\" class=\"dataframe\">\n",
       "  <thead>\n",
       "    <tr style=\"text-align: right;\">\n",
       "      <th></th>\n",
       "      <th>Case</th>\n",
       "      <th>Hospital_Name</th>\n",
       "      <th>REGIS_DATE</th>\n",
       "      <th>REGIS_TIME</th>\n",
       "      <th>reg_sec</th>\n",
       "      <th>Triage Time</th>\n",
       "      <th>triage_sec</th>\n",
       "      <th>Triage_Class</th>\n",
       "      <th>Age</th>\n",
       "      <th>Gender</th>\n",
       "      <th>Race</th>\n",
       "    </tr>\n",
       "  </thead>\n",
       "  <tbody>\n",
       "    <tr>\n",
       "      <th>0</th>\n",
       "      <td>92408</td>\n",
       "      <td>KTPH</td>\n",
       "      <td>7/4/2012</td>\n",
       "      <td>9:48:33</td>\n",
       "      <td>35313</td>\n",
       "      <td>9:58:12</td>\n",
       "      <td>35892</td>\n",
       "      <td>P2</td>\n",
       "      <td>40.0</td>\n",
       "      <td>M</td>\n",
       "      <td>Chinese</td>\n",
       "    </tr>\n",
       "    <tr>\n",
       "      <th>1</th>\n",
       "      <td>54452</td>\n",
       "      <td>KKH</td>\n",
       "      <td>7/10/2011</td>\n",
       "      <td>16:21:05</td>\n",
       "      <td>58865</td>\n",
       "      <td>16:23:42</td>\n",
       "      <td>59022</td>\n",
       "      <td>P2</td>\n",
       "      <td>0.0</td>\n",
       "      <td>M</td>\n",
       "      <td>Chinese</td>\n",
       "    </tr>\n",
       "    <tr>\n",
       "      <th>2</th>\n",
       "      <td>28303</td>\n",
       "      <td>CGH</td>\n",
       "      <td>3/10/2011</td>\n",
       "      <td>3:57:45</td>\n",
       "      <td>14265</td>\n",
       "      <td>4:00:00</td>\n",
       "      <td>14400</td>\n",
       "      <td>P3</td>\n",
       "      <td>33.0</td>\n",
       "      <td>M</td>\n",
       "      <td>Indian</td>\n",
       "    </tr>\n",
       "    <tr>\n",
       "      <th>3</th>\n",
       "      <td>121169</td>\n",
       "      <td>SGH</td>\n",
       "      <td>16/10/2011</td>\n",
       "      <td>4:08:47</td>\n",
       "      <td>14927</td>\n",
       "      <td>4:10:00</td>\n",
       "      <td>15000</td>\n",
       "      <td>P3</td>\n",
       "      <td>53.0</td>\n",
       "      <td>F</td>\n",
       "      <td>Malay</td>\n",
       "    </tr>\n",
       "    <tr>\n",
       "      <th>4</th>\n",
       "      <td>146488</td>\n",
       "      <td>TTSH</td>\n",
       "      <td>24/10/2011</td>\n",
       "      <td>3:09:47</td>\n",
       "      <td>11387</td>\n",
       "      <td>3:14:21</td>\n",
       "      <td>11661</td>\n",
       "      <td>P3</td>\n",
       "      <td>23.0</td>\n",
       "      <td>M</td>\n",
       "      <td>Others</td>\n",
       "    </tr>\n",
       "    <tr>\n",
       "      <th>5</th>\n",
       "      <td>93761</td>\n",
       "      <td>KTPH</td>\n",
       "      <td>11/4/2012</td>\n",
       "      <td>0:13:43</td>\n",
       "      <td>823</td>\n",
       "      <td>2:51:08</td>\n",
       "      <td>10268</td>\n",
       "      <td>P3</td>\n",
       "      <td>21.0</td>\n",
       "      <td>M</td>\n",
       "      <td>Chinese</td>\n",
       "    </tr>\n",
       "    <tr>\n",
       "      <th>6</th>\n",
       "      <td>95762</td>\n",
       "      <td>KTPH</td>\n",
       "      <td>16/04/2012</td>\n",
       "      <td>23:14:41</td>\n",
       "      <td>83681</td>\n",
       "      <td>1:05:13</td>\n",
       "      <td>3913</td>\n",
       "      <td>P2</td>\n",
       "      <td>47.0</td>\n",
       "      <td>M</td>\n",
       "      <td>Chinese</td>\n",
       "    </tr>\n",
       "    <tr>\n",
       "      <th>7</th>\n",
       "      <td>149941</td>\n",
       "      <td>TTSH</td>\n",
       "      <td>2/4/2012</td>\n",
       "      <td>10:12:32</td>\n",
       "      <td>36752</td>\n",
       "      <td>10:15:06</td>\n",
       "      <td>36906</td>\n",
       "      <td>P3</td>\n",
       "      <td>48.0</td>\n",
       "      <td>F</td>\n",
       "      <td>Others</td>\n",
       "    </tr>\n",
       "    <tr>\n",
       "      <th>8</th>\n",
       "      <td>23665</td>\n",
       "      <td>AH</td>\n",
       "      <td>29/10/2011</td>\n",
       "      <td>13:43:40</td>\n",
       "      <td>49420</td>\n",
       "      <td>13:49:00</td>\n",
       "      <td>49740</td>\n",
       "      <td>P2</td>\n",
       "      <td>43.0</td>\n",
       "      <td>M</td>\n",
       "      <td>Malay</td>\n",
       "    </tr>\n",
       "    <tr>\n",
       "      <th>9</th>\n",
       "      <td>12883</td>\n",
       "      <td>SGH</td>\n",
       "      <td>11/10/2011</td>\n",
       "      <td>6:23:14</td>\n",
       "      <td>22994</td>\n",
       "      <td>6:28:00</td>\n",
       "      <td>23280</td>\n",
       "      <td>P2</td>\n",
       "      <td>44.0</td>\n",
       "      <td>M</td>\n",
       "      <td>Malay</td>\n",
       "    </tr>\n",
       "  </tbody>\n",
       "</table>\n",
       "</div>"
      ],
      "text/plain": [
       "     Case Hospital_Name  REGIS_DATE REGIS_TIME  reg_sec Triage Time  \\\n",
       "0   92408          KTPH    7/4/2012    9:48:33    35313     9:58:12   \n",
       "1   54452           KKH   7/10/2011   16:21:05    58865    16:23:42   \n",
       "2   28303           CGH   3/10/2011    3:57:45    14265     4:00:00   \n",
       "3  121169           SGH  16/10/2011    4:08:47    14927     4:10:00   \n",
       "4  146488          TTSH  24/10/2011    3:09:47    11387     3:14:21   \n",
       "5   93761          KTPH   11/4/2012    0:13:43      823     2:51:08   \n",
       "6   95762          KTPH  16/04/2012   23:14:41    83681     1:05:13   \n",
       "7  149941          TTSH    2/4/2012   10:12:32    36752    10:15:06   \n",
       "8   23665            AH  29/10/2011   13:43:40    49420    13:49:00   \n",
       "9   12883           SGH  11/10/2011    6:23:14    22994     6:28:00   \n",
       "\n",
       "   triage_sec Triage_Class    Age Gender     Race  \n",
       "0       35892            P2  40.0      M  Chinese  \n",
       "1       59022            P2   0.0      M  Chinese  \n",
       "2       14400            P3  33.0      M   Indian  \n",
       "3       15000            P3  53.0      F    Malay  \n",
       "4       11661            P3  23.0      M   Others  \n",
       "5       10268            P3  21.0      M  Chinese  \n",
       "6        3913            P2  47.0      M  Chinese  \n",
       "7       36906            P3  48.0      F   Others  \n",
       "8       49740            P2  43.0      M    Malay  \n",
       "9       23280            P2  44.0      M    Malay  "
      ]
     },
     "execution_count": 6,
     "metadata": {},
     "output_type": "execute_result"
    }
   ],
   "source": [
    "df.head(10)"
   ]
  },
  {
   "cell_type": "code",
   "execution_count": 9,
   "id": "3378eaae",
   "metadata": {},
   "outputs": [
    {
     "data": {
      "text/plain": [
       "Hospital_Name        KTPH\n",
       "REGIS_DATE       7/4/2012\n",
       "REGIS_TIME        9:48:33\n",
       "reg_sec             35313\n",
       "Triage Time       9:58:12\n",
       "triage_sec          35892\n",
       "Triage_Class           P2\n",
       "Age                  40.0\n",
       "Gender                  M\n",
       "Race              Chinese\n",
       "Name: 92408, dtype: object"
      ]
     },
     "execution_count": 9,
     "metadata": {},
     "output_type": "execute_result"
    }
   ],
   "source": [
    "# identify first row \n",
    "df.loc[92408]"
   ]
  },
  {
   "cell_type": "code",
   "execution_count": 10,
   "id": "889713bd",
   "metadata": {},
   "outputs": [
    {
     "data": {
      "text/plain": [
       "(41832, 10)"
      ]
     },
     "execution_count": 10,
     "metadata": {},
     "output_type": "execute_result"
    }
   ],
   "source": [
    "df.shape"
   ]
  },
  {
   "cell_type": "code",
   "execution_count": 11,
   "id": "15b89bc1",
   "metadata": {},
   "outputs": [
    {
     "data": {
      "text/plain": [
       "Hospital_Name     object\n",
       "REGIS_DATE        object\n",
       "REGIS_TIME        object\n",
       "reg_sec            int64\n",
       "Triage Time       object\n",
       "triage_sec         int64\n",
       "Triage_Class      object\n",
       "Age              float64\n",
       "Gender            object\n",
       "Race              object\n",
       "dtype: object"
      ]
     },
     "execution_count": 11,
     "metadata": {},
     "output_type": "execute_result"
    }
   ],
   "source": [
    "df.dtypes"
   ]
  },
  {
   "cell_type": "code",
   "execution_count": 13,
   "id": "0df4c1d1",
   "metadata": {},
   "outputs": [],
   "source": [
    "df.reset_index(inplace = True)"
   ]
  },
  {
   "cell_type": "code",
   "execution_count": 14,
   "id": "ed22734d",
   "metadata": {},
   "outputs": [
    {
     "data": {
      "text/plain": [
       "index                   0\n",
       "Case                92408\n",
       "Hospital_Name        KTPH\n",
       "REGIS_DATE       7/4/2012\n",
       "REGIS_TIME        9:48:33\n",
       "reg_sec             35313\n",
       "Triage Time       9:58:12\n",
       "triage_sec          35892\n",
       "Triage_Class           P2\n",
       "Age                  40.0\n",
       "Gender                  M\n",
       "Race              Chinese\n",
       "Name: 0, dtype: object"
      ]
     },
     "execution_count": 14,
     "metadata": {},
     "output_type": "execute_result"
    }
   ],
   "source": [
    "df.iloc[0] # You can use the traditional row index to do indexing"
   ]
  },
  {
   "cell_type": "markdown",
   "id": "c34e235f",
   "metadata": {},
   "source": [
    "### Case Questions"
   ]
  },
  {
   "cell_type": "markdown",
   "id": "dc0cf961",
   "metadata": {},
   "source": [
    "### Question 1\n",
    "Do male Singaporeans have preferences over different hospitals to attend in case of an emergency? Please remember to delete the patient visits to (KKH in the dataset KKH is a Women's and Children's hospital.) If an emergency happens, the male patient will basically not be sent to KKH."
   ]
  },
  {
   "cell_type": "code",
   "execution_count": 25,
   "id": "dd6dc527",
   "metadata": {},
   "outputs": [
    {
     "name": "stdout",
     "output_type": "stream",
     "text": [
      "0        M\n",
      "1        M\n",
      "2        M\n",
      "3        F\n",
      "4        M\n",
      "        ..\n",
      "41827    F\n",
      "41828    F\n",
      "41829    M\n",
      "41830    F\n",
      "41831    F\n",
      "Name: Gender, Length: 41832, dtype: object\n"
     ]
    }
   ],
   "source": [
    "males = df['Gender']\n",
    "print(males)"
   ]
  },
  {
   "cell_type": "code",
   "execution_count": 26,
   "id": "c8c59aba",
   "metadata": {},
   "outputs": [
    {
     "data": {
      "text/plain": [
       "RangeIndex(start=0, stop=41832, step=1)"
      ]
     },
     "execution_count": 26,
     "metadata": {},
     "output_type": "execute_result"
    }
   ],
   "source": [
    "males.index"
   ]
  },
  {
   "cell_type": "code",
   "execution_count": 27,
   "id": "44ed5250",
   "metadata": {},
   "outputs": [
    {
     "data": {
      "text/plain": [
       "array(['M', 'M', 'M', ..., 'M', 'F', 'F'], dtype=object)"
      ]
     },
     "execution_count": 27,
     "metadata": {},
     "output_type": "execute_result"
    }
   ],
   "source": [
    "males.values"
   ]
  },
  {
   "cell_type": "code",
   "execution_count": 28,
   "id": "bf4c8e8d",
   "metadata": {},
   "outputs": [
    {
     "data": {
      "text/plain": [
       "pandas.core.series.Series"
      ]
     },
     "execution_count": 28,
     "metadata": {},
     "output_type": "execute_result"
    }
   ],
   "source": [
    "type(males)"
   ]
  },
  {
   "cell_type": "code",
   "execution_count": 33,
   "id": "34d428ca",
   "metadata": {},
   "outputs": [
    {
     "data": {
      "text/plain": [
       "pandas.core.frame.DataFrame"
      ]
     },
     "execution_count": 33,
     "metadata": {},
     "output_type": "execute_result"
    }
   ],
   "source": [
    "person_hospital = df[['Gender','Hospital_Name']]\n",
    "type(person_hospital)\n"
   ]
  },
  {
   "cell_type": "code",
   "execution_count": 34,
   "id": "1b6d82e1",
   "metadata": {},
   "outputs": [
    {
     "data": {
      "text/plain": [
       "Gender           object\n",
       "Hospital_Name    object\n",
       "dtype: object"
      ]
     },
     "execution_count": 34,
     "metadata": {},
     "output_type": "execute_result"
    }
   ],
   "source": [
    "person_hospital.dtypes"
   ]
  },
  {
   "cell_type": "code",
   "execution_count": 35,
   "id": "6335dfd4",
   "metadata": {},
   "outputs": [
    {
     "data": {
      "text/plain": [
       "0        M\n",
       "1        M\n",
       "2        M\n",
       "3        F\n",
       "4        M\n",
       "        ..\n",
       "41827    F\n",
       "41828    F\n",
       "41829    M\n",
       "41830    F\n",
       "41831    F\n",
       "Name: Gender, Length: 41832, dtype: object"
      ]
     },
     "execution_count": 35,
     "metadata": {},
     "output_type": "execute_result"
    }
   ],
   "source": [
    "person_hospital['Gender']"
   ]
  },
  {
   "cell_type": "code",
   "execution_count": 39,
   "id": "5e41c96c",
   "metadata": {},
   "outputs": [
    {
     "name": "stdout",
     "output_type": "stream",
     "text": [
      "M\n"
     ]
    }
   ],
   "source": [
    "print(person_hospital['Gender'][5])"
   ]
  },
  {
   "cell_type": "code",
   "execution_count": 40,
   "id": "3ddc9bbb",
   "metadata": {},
   "outputs": [
    {
     "name": "stdout",
     "output_type": "stream",
     "text": [
      "KTPH\n"
     ]
    }
   ],
   "source": [
    "print(person_hospital['Hospital_Name'][5])"
   ]
  },
  {
   "cell_type": "code",
   "execution_count": 42,
   "id": "2fa4c8cb",
   "metadata": {},
   "outputs": [
    {
     "data": {
      "text/html": [
       "<div>\n",
       "<style scoped>\n",
       "    .dataframe tbody tr th:only-of-type {\n",
       "        vertical-align: middle;\n",
       "    }\n",
       "\n",
       "    .dataframe tbody tr th {\n",
       "        vertical-align: top;\n",
       "    }\n",
       "\n",
       "    .dataframe thead th {\n",
       "        text-align: right;\n",
       "    }\n",
       "</style>\n",
       "<table border=\"1\" class=\"dataframe\">\n",
       "  <thead>\n",
       "    <tr style=\"text-align: right;\">\n",
       "      <th></th>\n",
       "      <th>Hospital_Name</th>\n",
       "      <th>Gender</th>\n",
       "      <th>REGIS_TIME</th>\n",
       "      <th>REGIS_DATE</th>\n",
       "    </tr>\n",
       "  </thead>\n",
       "  <tbody>\n",
       "    <tr>\n",
       "      <th>0</th>\n",
       "      <td>KTPH</td>\n",
       "      <td>M</td>\n",
       "      <td>9:48:33</td>\n",
       "      <td>7/4/2012</td>\n",
       "    </tr>\n",
       "    <tr>\n",
       "      <th>1</th>\n",
       "      <td>KKH</td>\n",
       "      <td>M</td>\n",
       "      <td>16:21:05</td>\n",
       "      <td>7/10/2011</td>\n",
       "    </tr>\n",
       "    <tr>\n",
       "      <th>2</th>\n",
       "      <td>CGH</td>\n",
       "      <td>M</td>\n",
       "      <td>3:57:45</td>\n",
       "      <td>3/10/2011</td>\n",
       "    </tr>\n",
       "    <tr>\n",
       "      <th>3</th>\n",
       "      <td>SGH</td>\n",
       "      <td>F</td>\n",
       "      <td>4:08:47</td>\n",
       "      <td>16/10/2011</td>\n",
       "    </tr>\n",
       "  </tbody>\n",
       "</table>\n",
       "</div>"
      ],
      "text/plain": [
       "  Hospital_Name Gender REGIS_TIME  REGIS_DATE\n",
       "0          KTPH      M    9:48:33    7/4/2012\n",
       "1           KKH      M   16:21:05   7/10/2011\n",
       "2           CGH      M    3:57:45   3/10/2011\n",
       "3           SGH      F    4:08:47  16/10/2011"
      ]
     },
     "execution_count": 42,
     "metadata": {},
     "output_type": "execute_result"
    }
   ],
   "source": [
    "cols_need = ['Hospital_Name','Gender','REGIS_TIME','REGIS_DATE']\n",
    "df_short = df[cols_need]\n",
    "df_short.head(4)"
   ]
  },
  {
   "cell_type": "code",
   "execution_count": 44,
   "id": "acd28f37",
   "metadata": {},
   "outputs": [
    {
     "data": {
      "text/html": [
       "<div>\n",
       "<style scoped>\n",
       "    .dataframe tbody tr th:only-of-type {\n",
       "        vertical-align: middle;\n",
       "    }\n",
       "\n",
       "    .dataframe tbody tr th {\n",
       "        vertical-align: top;\n",
       "    }\n",
       "\n",
       "    .dataframe thead th {\n",
       "        text-align: right;\n",
       "    }\n",
       "</style>\n",
       "<table border=\"1\" class=\"dataframe\">\n",
       "  <thead>\n",
       "    <tr style=\"text-align: right;\">\n",
       "      <th></th>\n",
       "      <th>Hospital_Name</th>\n",
       "      <th>Gender</th>\n",
       "      <th>REGIS_TIME</th>\n",
       "      <th>REGIS_DATE</th>\n",
       "    </tr>\n",
       "  </thead>\n",
       "  <tbody>\n",
       "    <tr>\n",
       "      <th>0</th>\n",
       "      <td>KTPH</td>\n",
       "      <td>M</td>\n",
       "      <td>9:48:33</td>\n",
       "      <td>7/4/2012</td>\n",
       "    </tr>\n",
       "    <tr>\n",
       "      <th>2</th>\n",
       "      <td>CGH</td>\n",
       "      <td>M</td>\n",
       "      <td>3:57:45</td>\n",
       "      <td>3/10/2011</td>\n",
       "    </tr>\n",
       "    <tr>\n",
       "      <th>4</th>\n",
       "      <td>TTSH</td>\n",
       "      <td>M</td>\n",
       "      <td>3:09:47</td>\n",
       "      <td>24/10/2011</td>\n",
       "    </tr>\n",
       "    <tr>\n",
       "      <th>6</th>\n",
       "      <td>KTPH</td>\n",
       "      <td>M</td>\n",
       "      <td>23:14:41</td>\n",
       "      <td>16/04/2012</td>\n",
       "    </tr>\n",
       "  </tbody>\n",
       "</table>\n",
       "</div>"
      ],
      "text/plain": [
       "  Hospital_Name Gender REGIS_TIME  REGIS_DATE\n",
       "0          KTPH      M    9:48:33    7/4/2012\n",
       "2           CGH      M    3:57:45   3/10/2011\n",
       "4          TTSH      M    3:09:47  24/10/2011\n",
       "6          KTPH      M   23:14:41  16/04/2012"
      ]
     },
     "execution_count": 44,
     "metadata": {},
     "output_type": "execute_result"
    }
   ],
   "source": [
    "# Combine slicing to obtain the even rows of the data set only\n",
    "df_short2 = df[cols_need][::2] #start:end: step_size, note that end is exclusive\n",
    "df_short2.head(4)"
   ]
  },
  {
   "cell_type": "code",
   "execution_count": 45,
   "id": "9b646ac8",
   "metadata": {},
   "outputs": [
    {
     "data": {
      "text/html": [
       "<div>\n",
       "<style scoped>\n",
       "    .dataframe tbody tr th:only-of-type {\n",
       "        vertical-align: middle;\n",
       "    }\n",
       "\n",
       "    .dataframe tbody tr th {\n",
       "        vertical-align: top;\n",
       "    }\n",
       "\n",
       "    .dataframe thead th {\n",
       "        text-align: right;\n",
       "    }\n",
       "</style>\n",
       "<table border=\"1\" class=\"dataframe\">\n",
       "  <thead>\n",
       "    <tr style=\"text-align: right;\">\n",
       "      <th></th>\n",
       "      <th>Hospital_Name</th>\n",
       "      <th>Gender</th>\n",
       "      <th>REGIS_TIME</th>\n",
       "      <th>REGIS_DATE</th>\n",
       "    </tr>\n",
       "  </thead>\n",
       "  <tbody>\n",
       "    <tr>\n",
       "      <th>1</th>\n",
       "      <td>KKH</td>\n",
       "      <td>M</td>\n",
       "      <td>16:21:05</td>\n",
       "      <td>7/10/2011</td>\n",
       "    </tr>\n",
       "    <tr>\n",
       "      <th>3</th>\n",
       "      <td>SGH</td>\n",
       "      <td>F</td>\n",
       "      <td>4:08:47</td>\n",
       "      <td>16/10/2011</td>\n",
       "    </tr>\n",
       "    <tr>\n",
       "      <th>5</th>\n",
       "      <td>KTPH</td>\n",
       "      <td>M</td>\n",
       "      <td>0:13:43</td>\n",
       "      <td>11/4/2012</td>\n",
       "    </tr>\n",
       "    <tr>\n",
       "      <th>7</th>\n",
       "      <td>TTSH</td>\n",
       "      <td>F</td>\n",
       "      <td>10:12:32</td>\n",
       "      <td>2/4/2012</td>\n",
       "    </tr>\n",
       "  </tbody>\n",
       "</table>\n",
       "</div>"
      ],
      "text/plain": [
       "  Hospital_Name Gender REGIS_TIME  REGIS_DATE\n",
       "1           KKH      M   16:21:05   7/10/2011\n",
       "3           SGH      F    4:08:47  16/10/2011\n",
       "5          KTPH      M    0:13:43   11/4/2012\n",
       "7          TTSH      F   10:12:32    2/4/2012"
      ]
     },
     "execution_count": 45,
     "metadata": {},
     "output_type": "execute_result"
    }
   ],
   "source": [
    "# Combine slicing to obtain the odd rows of the data set only\n",
    "df_short2 = df[cols_need][1::2] #start:end: step_size, note that end is exclusive\n",
    "df_short2.head(4)"
   ]
  },
  {
   "cell_type": "code",
   "execution_count": 47,
   "id": "f0397e1a",
   "metadata": {},
   "outputs": [
    {
     "data": {
      "text/plain": [
       "Hospital_Name         KTPH\n",
       "Gender                   M\n",
       "REGIS_TIME         0:13:43\n",
       "REGIS_DATE       11/4/2012\n",
       "Name: 5, dtype: object"
      ]
     },
     "execution_count": 47,
     "metadata": {},
     "output_type": "execute_result"
    }
   ],
   "source": [
    "df_short2.loc[5]"
   ]
  },
  {
   "cell_type": "code",
   "execution_count": 50,
   "id": "62ec5d55",
   "metadata": {},
   "outputs": [
    {
     "data": {
      "text/plain": [
       "1         KKH\n",
       "3         SGH\n",
       "5        KTPH\n",
       "7        TTSH\n",
       "9         SGH\n",
       "         ... \n",
       "41823    TTSH\n",
       "41825    TTSH\n",
       "41827     CGH\n",
       "41829     CGH\n",
       "41831     NUH\n",
       "Name: Hospital_Name, Length: 20916, dtype: object"
      ]
     },
     "execution_count": 50,
     "metadata": {},
     "output_type": "execute_result"
    }
   ],
   "source": [
    "df_short2.loc[:,'Hospital_Name']"
   ]
  },
  {
   "cell_type": "code",
   "execution_count": 55,
   "id": "613ccf39",
   "metadata": {},
   "outputs": [
    {
     "data": {
      "text/plain": [
       "'11/4/2012'"
      ]
     },
     "execution_count": 55,
     "metadata": {},
     "output_type": "execute_result"
    }
   ],
   "source": [
    "df.iloc[5,3]"
   ]
  },
  {
   "cell_type": "code",
   "execution_count": 67,
   "id": "742b2cb4",
   "metadata": {},
   "outputs": [
    {
     "name": "stdout",
     "output_type": "stream",
     "text": [
      "0     True\n",
      "1     True\n",
      "2     True\n",
      "3    False\n",
      "4     True\n",
      "5     True\n",
      "6     True\n",
      "7    False\n",
      "8     True\n",
      "9     True\n",
      "Name: Gender, dtype: bool \n",
      "\n",
      "0    M\n",
      "1    M\n",
      "2    M\n",
      "3    F\n",
      "4    M\n",
      "5    M\n",
      "6    M\n",
      "7    F\n",
      "8    M\n",
      "9    M\n",
      "Name: Gender, dtype: object\n"
     ]
    }
   ],
   "source": [
    "# Step 1: Create the filter, Boolean Series\n",
    "Gender_filter = df['Gender'] == 'M' # We call this Boolean Series as a filter\n",
    "print(Gender_filter.head(10),'\\n')\n",
    "print(df['Gender'].head(10))"
   ]
  },
  {
   "cell_type": "code",
   "execution_count": 72,
   "id": "ff6e0b42",
   "metadata": {},
   "outputs": [
    {
     "name": "stdout",
     "output_type": "stream",
     "text": [
      "(24761, 12) \n",
      "\n"
     ]
    },
    {
     "data": {
      "text/html": [
       "<div>\n",
       "<style scoped>\n",
       "    .dataframe tbody tr th:only-of-type {\n",
       "        vertical-align: middle;\n",
       "    }\n",
       "\n",
       "    .dataframe tbody tr th {\n",
       "        vertical-align: top;\n",
       "    }\n",
       "\n",
       "    .dataframe thead th {\n",
       "        text-align: right;\n",
       "    }\n",
       "</style>\n",
       "<table border=\"1\" class=\"dataframe\">\n",
       "  <thead>\n",
       "    <tr style=\"text-align: right;\">\n",
       "      <th></th>\n",
       "      <th>index</th>\n",
       "      <th>Case</th>\n",
       "      <th>Hospital_Name</th>\n",
       "      <th>REGIS_DATE</th>\n",
       "      <th>REGIS_TIME</th>\n",
       "      <th>reg_sec</th>\n",
       "      <th>Triage Time</th>\n",
       "      <th>triage_sec</th>\n",
       "      <th>Triage_Class</th>\n",
       "      <th>Age</th>\n",
       "      <th>Gender</th>\n",
       "      <th>Race</th>\n",
       "    </tr>\n",
       "  </thead>\n",
       "  <tbody>\n",
       "    <tr>\n",
       "      <th>0</th>\n",
       "      <td>0</td>\n",
       "      <td>92408</td>\n",
       "      <td>KTPH</td>\n",
       "      <td>7/4/2012</td>\n",
       "      <td>9:48:33</td>\n",
       "      <td>35313</td>\n",
       "      <td>9:58:12</td>\n",
       "      <td>35892</td>\n",
       "      <td>P2</td>\n",
       "      <td>40.0</td>\n",
       "      <td>M</td>\n",
       "      <td>Chinese</td>\n",
       "    </tr>\n",
       "    <tr>\n",
       "      <th>1</th>\n",
       "      <td>1</td>\n",
       "      <td>54452</td>\n",
       "      <td>KKH</td>\n",
       "      <td>7/10/2011</td>\n",
       "      <td>16:21:05</td>\n",
       "      <td>58865</td>\n",
       "      <td>16:23:42</td>\n",
       "      <td>59022</td>\n",
       "      <td>P2</td>\n",
       "      <td>0.0</td>\n",
       "      <td>M</td>\n",
       "      <td>Chinese</td>\n",
       "    </tr>\n",
       "    <tr>\n",
       "      <th>2</th>\n",
       "      <td>2</td>\n",
       "      <td>28303</td>\n",
       "      <td>CGH</td>\n",
       "      <td>3/10/2011</td>\n",
       "      <td>3:57:45</td>\n",
       "      <td>14265</td>\n",
       "      <td>4:00:00</td>\n",
       "      <td>14400</td>\n",
       "      <td>P3</td>\n",
       "      <td>33.0</td>\n",
       "      <td>M</td>\n",
       "      <td>Indian</td>\n",
       "    </tr>\n",
       "    <tr>\n",
       "      <th>4</th>\n",
       "      <td>4</td>\n",
       "      <td>146488</td>\n",
       "      <td>TTSH</td>\n",
       "      <td>24/10/2011</td>\n",
       "      <td>3:09:47</td>\n",
       "      <td>11387</td>\n",
       "      <td>3:14:21</td>\n",
       "      <td>11661</td>\n",
       "      <td>P3</td>\n",
       "      <td>23.0</td>\n",
       "      <td>M</td>\n",
       "      <td>Others</td>\n",
       "    </tr>\n",
       "    <tr>\n",
       "      <th>5</th>\n",
       "      <td>5</td>\n",
       "      <td>93761</td>\n",
       "      <td>KTPH</td>\n",
       "      <td>11/4/2012</td>\n",
       "      <td>0:13:43</td>\n",
       "      <td>823</td>\n",
       "      <td>2:51:08</td>\n",
       "      <td>10268</td>\n",
       "      <td>P3</td>\n",
       "      <td>21.0</td>\n",
       "      <td>M</td>\n",
       "      <td>Chinese</td>\n",
       "    </tr>\n",
       "  </tbody>\n",
       "</table>\n",
       "</div>"
      ],
      "text/plain": [
       "   index    Case Hospital_Name  REGIS_DATE REGIS_TIME  reg_sec Triage Time  \\\n",
       "0      0   92408          KTPH    7/4/2012    9:48:33    35313     9:58:12   \n",
       "1      1   54452           KKH   7/10/2011   16:21:05    58865    16:23:42   \n",
       "2      2   28303           CGH   3/10/2011    3:57:45    14265     4:00:00   \n",
       "4      4  146488          TTSH  24/10/2011    3:09:47    11387     3:14:21   \n",
       "5      5   93761          KTPH   11/4/2012    0:13:43      823     2:51:08   \n",
       "\n",
       "   triage_sec Triage_Class    Age Gender     Race  \n",
       "0       35892            P2  40.0      M  Chinese  \n",
       "1       59022            P2   0.0      M  Chinese  \n",
       "2       14400            P3  33.0      M   Indian  \n",
       "4       11661            P3  23.0      M   Others  \n",
       "5       10268            P3  21.0      M  Chinese  "
      ]
     },
     "execution_count": 72,
     "metadata": {},
     "output_type": "execute_result"
    }
   ],
   "source": [
    "# Step 2 (Method 1): Subset your data by using indexing operator\n",
    "Gender_df_1 = df[:][Gender_filter]\n",
    "print(Gender_df_1.shape,'\\n')\n",
    "Gender_df_1.head()"
   ]
  },
  {
   "cell_type": "code",
   "execution_count": 74,
   "id": "b065cda4",
   "metadata": {},
   "outputs": [
    {
     "name": "stdout",
     "output_type": "stream",
     "text": [
      "(24761, 12) \n",
      "\n"
     ]
    },
    {
     "data": {
      "text/html": [
       "<div>\n",
       "<style scoped>\n",
       "    .dataframe tbody tr th:only-of-type {\n",
       "        vertical-align: middle;\n",
       "    }\n",
       "\n",
       "    .dataframe tbody tr th {\n",
       "        vertical-align: top;\n",
       "    }\n",
       "\n",
       "    .dataframe thead th {\n",
       "        text-align: right;\n",
       "    }\n",
       "</style>\n",
       "<table border=\"1\" class=\"dataframe\">\n",
       "  <thead>\n",
       "    <tr style=\"text-align: right;\">\n",
       "      <th></th>\n",
       "      <th>index</th>\n",
       "      <th>Case</th>\n",
       "      <th>Hospital_Name</th>\n",
       "      <th>REGIS_DATE</th>\n",
       "      <th>REGIS_TIME</th>\n",
       "      <th>reg_sec</th>\n",
       "      <th>Triage Time</th>\n",
       "      <th>triage_sec</th>\n",
       "      <th>Triage_Class</th>\n",
       "      <th>Age</th>\n",
       "      <th>Gender</th>\n",
       "      <th>Race</th>\n",
       "    </tr>\n",
       "  </thead>\n",
       "  <tbody>\n",
       "    <tr>\n",
       "      <th>0</th>\n",
       "      <td>0</td>\n",
       "      <td>92408</td>\n",
       "      <td>KTPH</td>\n",
       "      <td>7/4/2012</td>\n",
       "      <td>9:48:33</td>\n",
       "      <td>35313</td>\n",
       "      <td>9:58:12</td>\n",
       "      <td>35892</td>\n",
       "      <td>P2</td>\n",
       "      <td>40.0</td>\n",
       "      <td>M</td>\n",
       "      <td>Chinese</td>\n",
       "    </tr>\n",
       "    <tr>\n",
       "      <th>1</th>\n",
       "      <td>1</td>\n",
       "      <td>54452</td>\n",
       "      <td>KKH</td>\n",
       "      <td>7/10/2011</td>\n",
       "      <td>16:21:05</td>\n",
       "      <td>58865</td>\n",
       "      <td>16:23:42</td>\n",
       "      <td>59022</td>\n",
       "      <td>P2</td>\n",
       "      <td>0.0</td>\n",
       "      <td>M</td>\n",
       "      <td>Chinese</td>\n",
       "    </tr>\n",
       "    <tr>\n",
       "      <th>2</th>\n",
       "      <td>2</td>\n",
       "      <td>28303</td>\n",
       "      <td>CGH</td>\n",
       "      <td>3/10/2011</td>\n",
       "      <td>3:57:45</td>\n",
       "      <td>14265</td>\n",
       "      <td>4:00:00</td>\n",
       "      <td>14400</td>\n",
       "      <td>P3</td>\n",
       "      <td>33.0</td>\n",
       "      <td>M</td>\n",
       "      <td>Indian</td>\n",
       "    </tr>\n",
       "    <tr>\n",
       "      <th>4</th>\n",
       "      <td>4</td>\n",
       "      <td>146488</td>\n",
       "      <td>TTSH</td>\n",
       "      <td>24/10/2011</td>\n",
       "      <td>3:09:47</td>\n",
       "      <td>11387</td>\n",
       "      <td>3:14:21</td>\n",
       "      <td>11661</td>\n",
       "      <td>P3</td>\n",
       "      <td>23.0</td>\n",
       "      <td>M</td>\n",
       "      <td>Others</td>\n",
       "    </tr>\n",
       "    <tr>\n",
       "      <th>5</th>\n",
       "      <td>5</td>\n",
       "      <td>93761</td>\n",
       "      <td>KTPH</td>\n",
       "      <td>11/4/2012</td>\n",
       "      <td>0:13:43</td>\n",
       "      <td>823</td>\n",
       "      <td>2:51:08</td>\n",
       "      <td>10268</td>\n",
       "      <td>P3</td>\n",
       "      <td>21.0</td>\n",
       "      <td>M</td>\n",
       "      <td>Chinese</td>\n",
       "    </tr>\n",
       "  </tbody>\n",
       "</table>\n",
       "</div>"
      ],
      "text/plain": [
       "   index    Case Hospital_Name  REGIS_DATE REGIS_TIME  reg_sec Triage Time  \\\n",
       "0      0   92408          KTPH    7/4/2012    9:48:33    35313     9:58:12   \n",
       "1      1   54452           KKH   7/10/2011   16:21:05    58865    16:23:42   \n",
       "2      2   28303           CGH   3/10/2011    3:57:45    14265     4:00:00   \n",
       "4      4  146488          TTSH  24/10/2011    3:09:47    11387     3:14:21   \n",
       "5      5   93761          KTPH   11/4/2012    0:13:43      823     2:51:08   \n",
       "\n",
       "   triage_sec Triage_Class    Age Gender     Race  \n",
       "0       35892            P2  40.0      M  Chinese  \n",
       "1       59022            P2   0.0      M  Chinese  \n",
       "2       14400            P3  33.0      M   Indian  \n",
       "4       11661            P3  23.0      M   Others  \n",
       "5       10268            P3  21.0      M  Chinese  "
      ]
     },
     "execution_count": 74,
     "metadata": {},
     "output_type": "execute_result"
    }
   ],
   "source": [
    "# Step 2 (Method 2): Subset your data by using .loc indexer\n",
    "Gender_df_2 = df.loc[Gender_filter,:]\n",
    "print(Gender_df_2.shape,'\\n')\n",
    "Gender_df_2.head()"
   ]
  },
  {
   "cell_type": "code",
   "execution_count": 78,
   "id": "82ffa0ec",
   "metadata": {},
   "outputs": [
    {
     "data": {
      "text/plain": [
       "array([ True,  True,  True, ...,  True, False, False])"
      ]
     },
     "execution_count": 78,
     "metadata": {},
     "output_type": "execute_result"
    }
   ],
   "source": [
    "Gender_filter.values"
   ]
  },
  {
   "cell_type": "code",
   "execution_count": 1,
   "id": "8ab3b24e",
   "metadata": {},
   "outputs": [
    {
     "ename": "NameError",
     "evalue": "name 'df' is not defined",
     "output_type": "error",
     "traceback": [
      "\u001b[1;31m---------------------------------------------------------------------------\u001b[0m",
      "\u001b[1;31mNameError\u001b[0m                                 Traceback (most recent call last)",
      "\u001b[1;32m~\\AppData\\Local\\Temp/ipykernel_592/1169653638.py\u001b[0m in \u001b[0;36m<module>\u001b[1;34m\u001b[0m\n\u001b[1;32m----> 1\u001b[1;33m \u001b[0mGender_df_3\u001b[0m \u001b[1;33m=\u001b[0m \u001b[0mdf\u001b[0m\u001b[1;33m.\u001b[0m\u001b[0miloc\u001b[0m\u001b[1;33m[\u001b[0m\u001b[0mGender_filter\u001b[0m\u001b[1;33m,\u001b[0m\u001b[1;33m:\u001b[0m\u001b[1;33m]\u001b[0m\u001b[1;33m\u001b[0m\u001b[1;33m\u001b[0m\u001b[0m\n\u001b[0m\u001b[0;32m      2\u001b[0m \u001b[0mprint\u001b[0m\u001b[1;33m(\u001b[0m\u001b[0mGender_df_3\u001b[0m\u001b[1;33m.\u001b[0m\u001b[0mshape\u001b[0m\u001b[1;33m,\u001b[0m\u001b[1;34m'\\n'\u001b[0m\u001b[1;33m)\u001b[0m\u001b[1;33m\u001b[0m\u001b[1;33m\u001b[0m\u001b[0m\n\u001b[0;32m      3\u001b[0m \u001b[0mGender_df_3\u001b[0m\u001b[1;33m.\u001b[0m\u001b[0mhead\u001b[0m\u001b[1;33m(\u001b[0m\u001b[1;33m)\u001b[0m\u001b[1;33m\u001b[0m\u001b[1;33m\u001b[0m\u001b[0m\n",
      "\u001b[1;31mNameError\u001b[0m: name 'df' is not defined"
     ]
    }
   ],
   "source": [
    "# Step 2 (Method 3): Subset your data by using .iloc indexer\n",
    "Gender_df_3 = df.iloc[Gender_filter, :]\n",
    "print(Gender_df_3.shape,'\\n')\n",
    "Gender_df_3.head()"
   ]
  },
  {
   "cell_type": "code",
   "execution_count": 3,
   "id": "6c1a2117",
   "metadata": {},
   "outputs": [
    {
     "ename": "NameError",
     "evalue": "name 'df' is not defined",
     "output_type": "error",
     "traceback": [
      "\u001b[1;31m---------------------------------------------------------------------------\u001b[0m",
      "\u001b[1;31mNameError\u001b[0m                                 Traceback (most recent call last)",
      "\u001b[1;32m~\\AppData\\Local\\Temp/ipykernel_592/3702538101.py\u001b[0m in \u001b[0;36m<module>\u001b[1;34m\u001b[0m\n\u001b[1;32m----> 1\u001b[1;33m \u001b[0mGender_filter\u001b[0m \u001b[1;33m=\u001b[0m \u001b[0mdf\u001b[0m\u001b[1;33m.\u001b[0m\u001b[0miloc\u001b[0m\u001b[1;33m[\u001b[0m\u001b[0mGender_filter\u001b[0m\u001b[1;33m.\u001b[0m\u001b[0mvalues\u001b[0m\u001b[1;33m,\u001b[0m \u001b[1;33m:\u001b[0m\u001b[1;33m]\u001b[0m\u001b[1;33m\u001b[0m\u001b[1;33m\u001b[0m\u001b[0m\n\u001b[0m\u001b[0;32m      2\u001b[0m \u001b[0mGender_filter\u001b[0m\u001b[1;33m.\u001b[0m\u001b[0mhead\u001b[0m\u001b[1;33m(\u001b[0m\u001b[1;33m)\u001b[0m\u001b[1;33m\u001b[0m\u001b[1;33m\u001b[0m\u001b[0m\n",
      "\u001b[1;31mNameError\u001b[0m: name 'df' is not defined"
     ]
    }
   ],
   "source": [
    "Gender_filter = df.iloc[Gender_filter.values, :]\n",
    "Gender_filter.head()"
   ]
  },
  {
   "cell_type": "code",
   "execution_count": 31,
   "id": "9bb1607c",
   "metadata": {},
   "outputs": [
    {
     "name": "stdout",
     "output_type": "stream",
     "text": [
      "0        False\n",
      "1        False\n",
      "2        False\n",
      "3         True\n",
      "4        False\n",
      "         ...  \n",
      "41827     True\n",
      "41828     True\n",
      "41829     True\n",
      "41830     True\n",
      "41831    False\n",
      "Name: Age, Length: 41832, dtype: bool\n",
      "         Case Hospital_Name  REGIS_DATE REGIS_TIME  reg_sec Triage Time  \\\n",
      "0       92408          KTPH    7/4/2012    9:48:33    35313     9:58:12   \n",
      "2       28303           CGH   3/10/2011    3:57:45    14265     4:00:00   \n",
      "4      146488          TTSH  24/10/2011    3:09:47    11387     3:14:21   \n",
      "5       93761          KTPH   11/4/2012    0:13:43      823     2:51:08   \n",
      "6       95762          KTPH  16/04/2012   23:14:41    83681     1:05:13   \n",
      "...       ...           ...         ...        ...      ...         ...   \n",
      "41819   41738           CGH    6/4/2012   14:41:57    52917    14:45:00   \n",
      "41820   94560          KTPH  13/04/2012   15:32:04    55924    16:07:46   \n",
      "41823  152502          TTSH    9/4/2012    8:43:28    31408     8:47:51   \n",
      "41824  100722           NUH   2/10/2011   14:49:36    53376    15:18:00   \n",
      "41829   30317           CGH   8/10/2011   12:59:42    46782    12:59:00   \n",
      "\n",
      "       triage_sec Triage_Class    Age Gender     Race  \n",
      "0           35892            P2  40.0      M  Chinese  \n",
      "2           14400            P3  33.0      M   Indian  \n",
      "4           11661            P3  23.0      M   Others  \n",
      "5           10268            P3  21.0      M  Chinese  \n",
      "6            3913            P2  47.0      M  Chinese  \n",
      "...           ...           ...   ...    ...      ...  \n",
      "41819       53100            P3  23.0      M  Chinese  \n",
      "41820       58066            P3  73.0      M  Chinese  \n",
      "41823       31671            P2  37.0      M    Malay  \n",
      "41824       55080            P3  21.0      M  Chinese  \n",
      "41829       46740            P2  59.0      M    Malay  \n",
      "\n",
      "[20330 rows x 11 columns]\n"
     ]
    }
   ],
   "source": [
    "import os\n",
    "cwd = os.getcwd()\n",
    "import pandas as pd\n",
    "df = pd.read_csv('EDdata_new.csv')\n",
    "criter1 = df.Gender == \"M\"\n",
    "criter2 = df.Hospital_Name != \"KKH\"\n",
    "print(df.Age > 45)\n",
    "print(df[criter1 & criter2])"
   ]
  },
  {
   "cell_type": "markdown",
   "id": "1097335e",
   "metadata": {},
   "source": [
    "###Question 1"
   ]
  },
  {
   "cell_type": "code",
   "execution_count": 32,
   "id": "667dc391",
   "metadata": {},
   "outputs": [
    {
     "name": "stdout",
     "output_type": "stream",
     "text": [
      "         Case Hospital_Name  REGIS_DATE REGIS_TIME  reg_sec Triage Time  \\\n",
      "0       92408          KTPH    7/4/2012    9:48:33    35313     9:58:12   \n",
      "2       28303           CGH   3/10/2011    3:57:45    14265     4:00:00   \n",
      "4      146488          TTSH  24/10/2011    3:09:47    11387     3:14:21   \n",
      "5       93761          KTPH   11/4/2012    0:13:43      823     2:51:08   \n",
      "6       95762          KTPH  16/04/2012   23:14:41    83681     1:05:13   \n",
      "...       ...           ...         ...        ...      ...         ...   \n",
      "41819   41738           CGH    6/4/2012   14:41:57    52917    14:45:00   \n",
      "41820   94560          KTPH  13/04/2012   15:32:04    55924    16:07:46   \n",
      "41823  152502          TTSH    9/4/2012    8:43:28    31408     8:47:51   \n",
      "41824  100722           NUH   2/10/2011   14:49:36    53376    15:18:00   \n",
      "41829   30317           CGH   8/10/2011   12:59:42    46782    12:59:00   \n",
      "\n",
      "       triage_sec Triage_Class    Age Gender     Race  \n",
      "0           35892            P2  40.0      M  Chinese  \n",
      "2           14400            P3  33.0      M   Indian  \n",
      "4           11661            P3  23.0      M   Others  \n",
      "5           10268            P3  21.0      M  Chinese  \n",
      "6            3913            P2  47.0      M  Chinese  \n",
      "...           ...           ...   ...    ...      ...  \n",
      "41819       53100            P3  23.0      M  Chinese  \n",
      "41820       58066            P3  73.0      M  Chinese  \n",
      "41823       31671            P2  37.0      M    Malay  \n",
      "41824       55080            P3  21.0      M  Chinese  \n",
      "41829       46740            P2  59.0      M    Malay  \n",
      "\n",
      "[20330 rows x 11 columns]\n"
     ]
    }
   ],
   "source": [
    "import os\n",
    "cwd = os.getcwd()\n",
    "import pandas as pd\n",
    "df = pd.read_csv('EDdata_new.csv')\n",
    "criter1 = df.Gender == \"M\"\n",
    "criter2 = df.Hospital_Name != \"KKH\"\n",
    "print(df[criter1 & criter2])"
   ]
  },
  {
   "cell_type": "code",
   "execution_count": 35,
   "id": "2420a751",
   "metadata": {},
   "outputs": [
    {
     "name": "stdout",
     "output_type": "stream",
     "text": [
      "         Case Hospital_Name  REGIS_DATE REGIS_TIME  reg_sec Triage Time  \\\n",
      "0       92408          KTPH    7/4/2012    9:48:33    35313     9:58:12   \n",
      "2       28303           CGH   3/10/2011    3:57:45    14265     4:00:00   \n",
      "4      146488          TTSH  24/10/2011    3:09:47    11387     3:14:21   \n",
      "5       93761          KTPH   11/4/2012    0:13:43      823     2:51:08   \n",
      "6       95762          KTPH  16/04/2012   23:14:41    83681     1:05:13   \n",
      "...       ...           ...         ...        ...      ...         ...   \n",
      "41819   41738           CGH    6/4/2012   14:41:57    52917    14:45:00   \n",
      "41820   94560          KTPH  13/04/2012   15:32:04    55924    16:07:46   \n",
      "41823  152502          TTSH    9/4/2012    8:43:28    31408     8:47:51   \n",
      "41824  100722           NUH   2/10/2011   14:49:36    53376    15:18:00   \n",
      "41829   30317           CGH   8/10/2011   12:59:42    46782    12:59:00   \n",
      "\n",
      "       triage_sec Triage_Class    Age Gender     Race  \n",
      "0           35892            P2  40.0      M  Chinese  \n",
      "2           14400            P3  33.0      M   Indian  \n",
      "4           11661            P3  23.0      M   Others  \n",
      "5           10268            P3  21.0      M  Chinese  \n",
      "6            3913            P2  47.0      M  Chinese  \n",
      "...           ...           ...   ...    ...      ...  \n",
      "41819       53100            P3  23.0      M  Chinese  \n",
      "41820       58066            P3  73.0      M  Chinese  \n",
      "41823       31671            P2  37.0      M    Malay  \n",
      "41824       55080            P3  21.0      M  Chinese  \n",
      "41829       46740            P2  59.0      M    Malay  \n",
      "\n",
      "[20330 rows x 11 columns]\n"
     ]
    }
   ],
   "source": [
    "fil_1 = criter1&criter2\n",
    "df_male = df.loc[fil_1].copy()\n",
    "print(df_male)"
   ]
  },
  {
   "cell_type": "code",
   "execution_count": 37,
   "id": "cd302aae",
   "metadata": {},
   "outputs": [
    {
     "name": "stdout",
     "output_type": "stream",
     "text": [
      "['KTPH' 'CGH' 'TTSH' 'AH' 'SGH' 'NUH']\n"
     ]
    }
   ],
   "source": [
    "hosp_name = df_male['Hospital_Name'].unique()\n",
    "print(hosp_name)"
   ]
  },
  {
   "cell_type": "code",
   "execution_count": 43,
   "id": "9bb08602",
   "metadata": {},
   "outputs": [
    {
     "name": "stdout",
     "output_type": "stream",
     "text": [
      "{'KTPH': 0, 'CGH': 0, 'TTSH': 0, 'AH': 0, 'SGH': 0, 'NUH': 0}\n"
     ]
    }
   ],
   "source": [
    "out_table = dict.fromkeys(hosp_name,0)\n",
    "print(out_table)"
   ]
  },
  {
   "cell_type": "code",
   "execution_count": 57,
   "id": "1f899b07",
   "metadata": {},
   "outputs": [
    {
     "name": "stdout",
     "output_type": "stream",
     "text": [
      "Case                                                     469796641\n",
      "Hospital_Name    KTPHKTPHKTPHKTPHKTPHKTPHKTPHKTPHKTPHKTPHKTPHKT...\n",
      "REGIS_DATE       7/4/201211/4/201216/04/20125/4/20121/4/201215/...\n",
      "REGIS_TIME       9:48:330:13:4323:14:4116:03:3014:03:5823:38:58...\n",
      "reg_sec                                                  300303914\n",
      "Triage Time      9:58:122:51:081:05:1316:16:5014:45:5923:56:041...\n",
      "triage_sec                                               294123130\n",
      "Triage_Class     P2P3P2P2P3P3P3P2P2P2P2P3P3P3P3P2P3P3P3P2P2P3P2...\n",
      "Age                                                       238752.0\n",
      "Gender           MMMMMFMMFMMFMFFMMMMMFMFMMMMMMMFFFMMFMMMMMFMMFM...\n",
      "Race             ChineseChineseChineseMalayOthersChineseChinese...\n",
      "dtype: object\n",
      "Case                                                     242327958\n",
      "Hospital_Name    CGHCGHCGHCGHCGHCGHCGHCGHCGHCGHCGHCGHCGHCGHCGHC...\n",
      "REGIS_DATE       3/10/201118/04/20127/10/20118/4/201211/10/2011...\n",
      "REGIS_TIME       3:57:453:53:5616:20:260:07:4618:42:3817:49:591...\n",
      "reg_sec                                                  352390495\n",
      "Triage Time      4:00:004:06:0016:34:000:22:0018:41:0018:18:001...\n",
      "triage_sec                                               353008860\n",
      "Triage_Class     P3P1P2P2P3P3P3P2P3P2P2P3P1P2P3P3P2P3P3P3P3P3P2...\n",
      "Age                                                       300667.0\n",
      "Gender           MMMMFMFFMMMMFMMMMMFMFFFFMMFMMMMMFFMFMFMMFMMMFM...\n",
      "Race             IndianChineseMalayChineseMalayChineseChineseCh...\n",
      "dtype: object\n",
      "Case                                                     933398528\n",
      "Hospital_Name    TTSHTTSHTTSHTTSHTTSHTTSHTTSHTTSHTTSHTTSHTTSHTT...\n",
      "REGIS_DATE       24/10/20112/4/20124/10/201114/10/201128/10/201...\n",
      "REGIS_TIME       3:09:4710:12:3213:53:4013:49:179:58:0021:53:53...\n",
      "reg_sec                                                  367775281\n",
      "Triage Time      3:14:2110:15:0613:57:4013:57:5410:08:3922:03:0...\n",
      "triage_sec                                               368943766\n",
      "Triage_Class     P3P3P3P3P2P2P2P3P3P3P3P3P2P2P3P3P3P3P2P2P2P2P2...\n",
      "Age                                                       360117.0\n",
      "Gender           MFMMFMFFMMMMFFFMMFMFMMFFFFFFFMMMMMMFMFMFMMFMFM...\n",
      "Race             OthersOthersOthersMalayChineseOthersChineseChi...\n",
      "dtype: object\n",
      "Case                                                      45428690\n",
      "Hospital_Name    AHAHAHAHAHAHAHAHAHAHAHAHAHAHAHAHAHAHAHAHAHAHAH...\n",
      "REGIS_DATE       29/10/201119/04/20129/10/20119/4/201228/10/201...\n",
      "REGIS_TIME       13:43:4014:36:0619:47:1416:23:0822:45:0718:10:...\n",
      "reg_sec                                                  103647189\n",
      "Triage Time      13:49:0014:36:0019:55:0016:24:0022:45:3418:13:...\n",
      "triage_sec                                               103420011\n",
      "Triage_Class     P2P3P3P3P3P2P3P3P3P2P2P2P2P2P3P3P2P2P3P3P3P3P2...\n",
      "Age                                                        85631.0\n",
      "Gender           MMMMMMMMMFMFFFMMFFFMFMMFFFFMMFMMFFFFMFMMMFMMMM...\n",
      "Race             MalayOthersChineseChineseOthersChineseIndianOt...\n",
      "dtype: object\n",
      "Case                                                     738657696\n",
      "Hospital_Name    SGHSGHSGHSGHSGHSGHSGHSGHSGHSGHSGHSGHSGHSGHSGHS...\n",
      "REGIS_DATE       16/10/201111/10/20113/10/20116/10/201129/10/20...\n",
      "REGIS_TIME       4:08:476:23:1416:25:3817:13:1721:44:2410:26:15...\n",
      "reg_sec                                                  325038103\n",
      "Triage Time      4:10:006:28:0016:33:0017:20:0021:44:0010:46:00...\n",
      "triage_sec                                               326021940\n",
      "Triage_Class     P3P2P3P3P2P2P2P3P3P3P3P3P3P2P2P3P3P3P2P2P3P3P3...\n",
      "Age                                                       319845.0\n",
      "Gender           FMMFMFMMMFMMMFFFMFMMFMFMMFMMFMFFFMMMFMFFMFMMMM...\n",
      "Race             MalayMalayChineseChineseChineseChineseChineseC...\n",
      "dtype: object\n",
      "Case                                                     430222499\n",
      "Hospital_Name    NUHNUHNUHNUHNUHNUHNUHNUHNUHNUHNUHNUHNUHNUHNUHN...\n",
      "REGIS_DATE       28/04/201223/10/201116/10/201130/04/201227/04/...\n",
      "REGIS_TIME       23:33:109:30:3114:10:0311:34:0422:34:2015:33:0...\n",
      "reg_sec                                                  243605068\n",
      "Triage Time      0:57:0010:02:0014:36:0011:56:000:10:0016:21:00...\n",
      "triage_sec                                               242544111\n",
      "Triage_Class     P2P2P2P2P2P3P2P3P3P3P2P3P2P1P3P3P2P1P3P2P2P2P2...\n",
      "Age                                                       214453.0\n",
      "Gender           MMFMMFMFMFFFFMMFFMMFFMMMMMFMMMFFFMFFFMFMMMMMFF...\n",
      "Race             OthersChineseOthersChineseChineseOthersChinese...\n",
      "dtype: object\n"
     ]
    }
   ],
   "source": [
    "for h in hosp_name:\n",
    "    filter_hos = df.Hospital_Name == h\n",
    "    print(df.loc[filter_hos].sum())\n",
    "    out_table[h]=df.loc[filter_hos].sum()\n",
    "result = out_table"
   ]
  },
  {
   "cell_type": "code",
   "execution_count": 56,
   "id": "55dad8f6",
   "metadata": {},
   "outputs": [
    {
     "name": "stdout",
     "output_type": "stream",
     "text": [
      "KTPH    Case                                          ...\n",
      "CGH     Case                                          ...\n",
      "TTSH    Case                                          ...\n",
      "AH      Case                                          ...\n",
      "SGH     Case                                          ...\n",
      "NUH     Case                                          ...\n",
      "dtype: object\n"
     ]
    }
   ],
   "source": [
    "result=pd.Series(out_table)\n",
    "print(result)"
   ]
  },
  {
   "cell_type": "code",
   "execution_count": 62,
   "id": "660ca8f7",
   "metadata": {},
   "outputs": [
    {
     "name": "stdout",
     "output_type": "stream",
     "text": [
      "0         True\n",
      "1         True\n",
      "2         True\n",
      "3        False\n",
      "4         True\n",
      "         ...  \n",
      "41827    False\n",
      "41828    False\n",
      "41829     True\n",
      "41830    False\n",
      "41831    False\n",
      "Name: Gender, Length: 41832, dtype: bool\n"
     ]
    }
   ],
   "source": [
    "male_patients = df.Gender == 'M'\n",
    "print(male_patients)"
   ]
  },
  {
   "cell_type": "code",
   "execution_count": 61,
   "id": "97e6f5f6",
   "metadata": {},
   "outputs": [
    {
     "name": "stdout",
     "output_type": "stream",
     "text": [
      "<pandas.core.groupby.generic.DataFrameGroupBy object at 0x000002B792A3FAC0>\n",
      "AH\n",
      "\n",
      "CGH\n",
      "\n",
      "KKH\n",
      "\n",
      "KTPH\n",
      "\n",
      "NUH\n",
      "\n",
      "SGH\n",
      "\n",
      "TTSH\n",
      "\n"
     ]
    }
   ],
   "source": [
    "grpy = df.groupby('Hospital_Name')\n",
    "print(grpy)\n",
    "for h, group in grpy:\n",
    "    print(h)\n",
    "    print()"
   ]
  },
  {
   "cell_type": "code",
   "execution_count": 63,
   "id": "83339510",
   "metadata": {},
   "outputs": [
    {
     "name": "stdout",
     "output_type": "stream",
     "text": [
      "      Hospital_Name Gender\n",
      "0              KTPH      M\n",
      "1               KKH      M\n",
      "2               CGH      M\n",
      "3               SGH      F\n",
      "4              TTSH      M\n",
      "...             ...    ...\n",
      "41827           CGH      F\n",
      "41828            AH      F\n",
      "41829           CGH      M\n",
      "41830           SGH      F\n",
      "41831           NUH      F\n",
      "\n",
      "[41832 rows x 2 columns]\n"
     ]
    }
   ],
   "source": [
    "cols_need = ['Hospital_Name','Gender']\n",
    "df_short = df[cols_need]\n",
    "print(df_short)"
   ]
  },
  {
   "cell_type": "code",
   "execution_count": 83,
   "id": "152ec8dd",
   "metadata": {
    "scrolled": true
   },
   "outputs": [
    {
     "name": "stdout",
     "output_type": "stream",
     "text": [
      "      Hospital_Name Gender\n",
      "0              KTPH      M\n",
      "2               CGH      M\n",
      "4              TTSH      M\n",
      "5              KTPH      M\n",
      "6              KTPH      M\n",
      "...             ...    ...\n",
      "41819           CGH      M\n",
      "41820          KTPH      M\n",
      "41823          TTSH      M\n",
      "41824           NUH      M\n",
      "41829           CGH      M\n",
      "\n",
      "[20330 rows x 2 columns]\n",
      "               Gender\n",
      "Hospital_Name        \n",
      "AH               1433\n",
      "CGH              4301\n",
      "KTPH             3886\n",
      "NUH              2904\n",
      "SGH              3435\n",
      "TTSH             4371\n"
     ]
    }
   ],
   "source": [
    "## new Question 1 \n",
    "\n",
    "Gender_filter = df_short['Gender'] == 'M'\n",
    "hosp_filter = df_short['Hospital_Name'] != 'KKH'\n",
    "df_short_males = df_short.loc[Gender_filter, :]\n",
    "df_short_hosp = df_short_males.loc[hosp_filter, :]\n",
    "# print(df_short_males)\n",
    "print(df_short_hosp)\n",
    "hosp_name = df_male['Hospital_Name'].unique()\n",
    "# print(hosp_name)\n",
    "\n",
    "grpy = df_short_hosp.groupby('Hospital_Name').count()\n",
    "print(grpy)\n",
    "# for h, group in grpy:\n",
    "#    print(h)\n",
    "#    print(group) "
   ]
  },
  {
   "cell_type": "code",
   "execution_count": 99,
   "id": "e6987c2a",
   "metadata": {},
   "outputs": [
    {
     "data": {
      "text/html": [
       "<div>\n",
       "<style scoped>\n",
       "    .dataframe tbody tr th:only-of-type {\n",
       "        vertical-align: middle;\n",
       "    }\n",
       "\n",
       "    .dataframe tbody tr th {\n",
       "        vertical-align: top;\n",
       "    }\n",
       "\n",
       "    .dataframe thead th {\n",
       "        text-align: right;\n",
       "    }\n",
       "</style>\n",
       "<table border=\"1\" class=\"dataframe\">\n",
       "  <thead>\n",
       "    <tr style=\"text-align: right;\">\n",
       "      <th></th>\n",
       "      <th>Case</th>\n",
       "      <th>Hospital_Name</th>\n",
       "      <th>REGIS_DATE</th>\n",
       "      <th>REGIS_TIME</th>\n",
       "      <th>reg_sec</th>\n",
       "      <th>Triage Time</th>\n",
       "      <th>triage_sec</th>\n",
       "      <th>Triage_Class</th>\n",
       "      <th>Age</th>\n",
       "      <th>Gender</th>\n",
       "      <th>Race</th>\n",
       "      <th>wait_time</th>\n",
       "      <th>wait_min</th>\n",
       "    </tr>\n",
       "  </thead>\n",
       "  <tbody>\n",
       "    <tr>\n",
       "      <th>0</th>\n",
       "      <td>92408</td>\n",
       "      <td>KTPH</td>\n",
       "      <td>7/4/2012</td>\n",
       "      <td>579</td>\n",
       "      <td>35313</td>\n",
       "      <td>9:58:12</td>\n",
       "      <td>35892</td>\n",
       "      <td>P2</td>\n",
       "      <td>40.0</td>\n",
       "      <td>M</td>\n",
       "      <td>Chinese</td>\n",
       "      <td>579</td>\n",
       "      <td>9.650000</td>\n",
       "    </tr>\n",
       "    <tr>\n",
       "      <th>1</th>\n",
       "      <td>54452</td>\n",
       "      <td>KKH</td>\n",
       "      <td>7/10/2011</td>\n",
       "      <td>157</td>\n",
       "      <td>58865</td>\n",
       "      <td>16:23:42</td>\n",
       "      <td>59022</td>\n",
       "      <td>P2</td>\n",
       "      <td>0.0</td>\n",
       "      <td>M</td>\n",
       "      <td>Chinese</td>\n",
       "      <td>157</td>\n",
       "      <td>2.616667</td>\n",
       "    </tr>\n",
       "    <tr>\n",
       "      <th>2</th>\n",
       "      <td>28303</td>\n",
       "      <td>CGH</td>\n",
       "      <td>3/10/2011</td>\n",
       "      <td>135</td>\n",
       "      <td>14265</td>\n",
       "      <td>4:00:00</td>\n",
       "      <td>14400</td>\n",
       "      <td>P3</td>\n",
       "      <td>33.0</td>\n",
       "      <td>M</td>\n",
       "      <td>Indian</td>\n",
       "      <td>135</td>\n",
       "      <td>2.250000</td>\n",
       "    </tr>\n",
       "    <tr>\n",
       "      <th>3</th>\n",
       "      <td>121169</td>\n",
       "      <td>SGH</td>\n",
       "      <td>16/10/2011</td>\n",
       "      <td>73</td>\n",
       "      <td>14927</td>\n",
       "      <td>4:10:00</td>\n",
       "      <td>15000</td>\n",
       "      <td>P3</td>\n",
       "      <td>53.0</td>\n",
       "      <td>F</td>\n",
       "      <td>Malay</td>\n",
       "      <td>73</td>\n",
       "      <td>1.216667</td>\n",
       "    </tr>\n",
       "    <tr>\n",
       "      <th>4</th>\n",
       "      <td>146488</td>\n",
       "      <td>TTSH</td>\n",
       "      <td>24/10/2011</td>\n",
       "      <td>274</td>\n",
       "      <td>11387</td>\n",
       "      <td>3:14:21</td>\n",
       "      <td>11661</td>\n",
       "      <td>P3</td>\n",
       "      <td>23.0</td>\n",
       "      <td>M</td>\n",
       "      <td>Others</td>\n",
       "      <td>274</td>\n",
       "      <td>4.566667</td>\n",
       "    </tr>\n",
       "  </tbody>\n",
       "</table>\n",
       "</div>"
      ],
      "text/plain": [
       "     Case Hospital_Name  REGIS_DATE  REGIS_TIME  reg_sec Triage Time  \\\n",
       "0   92408          KTPH    7/4/2012         579    35313     9:58:12   \n",
       "1   54452           KKH   7/10/2011         157    58865    16:23:42   \n",
       "2   28303           CGH   3/10/2011         135    14265     4:00:00   \n",
       "3  121169           SGH  16/10/2011          73    14927     4:10:00   \n",
       "4  146488          TTSH  24/10/2011         274    11387     3:14:21   \n",
       "\n",
       "   triage_sec Triage_Class    Age Gender     Race  wait_time  wait_min  \n",
       "0       35892            P2  40.0      M  Chinese        579  9.650000  \n",
       "1       59022            P2   0.0      M  Chinese        157  2.616667  \n",
       "2       14400            P3  33.0      M   Indian        135  2.250000  \n",
       "3       15000            P3  53.0      F    Malay         73  1.216667  \n",
       "4       11661            P3  23.0      M   Others        274  4.566667  "
      ]
     },
     "execution_count": 99,
     "metadata": {},
     "output_type": "execute_result"
    }
   ],
   "source": [
    "## Question 2\n",
    "\n",
    "df['wait_time'] = 0\n",
    "n_pat = len(df)\n",
    "df_reg = df['reg_sec']\n",
    "df_tri = df['triage_sec']\n",
    "df_wait = df['wait_time']\n",
    "\n",
    "df_wait = 24*60*60 - df_reg + df_tri\n",
    "filt_1 = df['triage_sec'] > df['reg_sec']\n",
    "df_wait [filt_1] = df_tri [filt_1] - df_reg [filt_1]\n",
    "\n",
    "df ['wait_time'] = df_wait\n",
    "df['wait_min'] = df_wait/60\n",
    "df.head()"
   ]
  },
  {
   "cell_type": "code",
   "execution_count": 101,
   "id": "2bb8c2ab",
   "metadata": {},
   "outputs": [
    {
     "data": {
      "text/html": [
       "<div>\n",
       "<style scoped>\n",
       "    .dataframe tbody tr th:only-of-type {\n",
       "        vertical-align: middle;\n",
       "    }\n",
       "\n",
       "    .dataframe tbody tr th {\n",
       "        vertical-align: top;\n",
       "    }\n",
       "\n",
       "    .dataframe thead th {\n",
       "        text-align: right;\n",
       "    }\n",
       "</style>\n",
       "<table border=\"1\" class=\"dataframe\">\n",
       "  <thead>\n",
       "    <tr style=\"text-align: right;\">\n",
       "      <th></th>\n",
       "      <th>KTPH</th>\n",
       "      <th>KKH</th>\n",
       "      <th>CGH</th>\n",
       "      <th>SGH</th>\n",
       "      <th>TTSH</th>\n",
       "      <th>AH</th>\n",
       "      <th>NUH</th>\n",
       "    </tr>\n",
       "  </thead>\n",
       "  <tbody>\n",
       "    <tr>\n",
       "      <th>count</th>\n",
       "      <td>6002.000000</td>\n",
       "      <td>7897.000000</td>\n",
       "      <td>7064.000000</td>\n",
       "      <td>6482.000000</td>\n",
       "      <td>7423.000000</td>\n",
       "      <td>2100.000000</td>\n",
       "      <td>4864.000000</td>\n",
       "    </tr>\n",
       "    <tr>\n",
       "      <th>mean</th>\n",
       "      <td>34.179762</td>\n",
       "      <td>7.077221</td>\n",
       "      <td>174.935742</td>\n",
       "      <td>99.166505</td>\n",
       "      <td>7.473360</td>\n",
       "      <td>594.082714</td>\n",
       "      <td>42.252752</td>\n",
       "    </tr>\n",
       "    <tr>\n",
       "      <th>std</th>\n",
       "      <td>27.340213</td>\n",
       "      <td>17.836609</td>\n",
       "      <td>450.748449</td>\n",
       "      <td>350.262948</td>\n",
       "      <td>6.244866</td>\n",
       "      <td>704.937491</td>\n",
       "      <td>68.331628</td>\n",
       "    </tr>\n",
       "    <tr>\n",
       "      <th>min</th>\n",
       "      <td>0.333333</td>\n",
       "      <td>0.016667</td>\n",
       "      <td>0.016667</td>\n",
       "      <td>0.016667</td>\n",
       "      <td>0.083333</td>\n",
       "      <td>0.050000</td>\n",
       "      <td>0.016667</td>\n",
       "    </tr>\n",
       "    <tr>\n",
       "      <th>25%</th>\n",
       "      <td>14.404167</td>\n",
       "      <td>1.233333</td>\n",
       "      <td>5.745833</td>\n",
       "      <td>2.433333</td>\n",
       "      <td>3.566667</td>\n",
       "      <td>4.445833</td>\n",
       "      <td>17.200000</td>\n",
       "    </tr>\n",
       "    <tr>\n",
       "      <th>50%</th>\n",
       "      <td>26.533333</td>\n",
       "      <td>4.166667</td>\n",
       "      <td>12.400000</td>\n",
       "      <td>5.700000</td>\n",
       "      <td>6.083333</td>\n",
       "      <td>11.000000</td>\n",
       "      <td>31.291667</td>\n",
       "    </tr>\n",
       "    <tr>\n",
       "      <th>75%</th>\n",
       "      <td>46.379167</td>\n",
       "      <td>9.816667</td>\n",
       "      <td>25.137500</td>\n",
       "      <td>12.133333</td>\n",
       "      <td>9.625000</td>\n",
       "      <td>1439.400000</td>\n",
       "      <td>53.441667</td>\n",
       "    </tr>\n",
       "    <tr>\n",
       "      <th>max</th>\n",
       "      <td>194.416667</td>\n",
       "      <td>1438.150000</td>\n",
       "      <td>1440.000000</td>\n",
       "      <td>1440.000000</td>\n",
       "      <td>127.316667</td>\n",
       "      <td>1440.000000</td>\n",
       "      <td>1440.000000</td>\n",
       "    </tr>\n",
       "  </tbody>\n",
       "</table>\n",
       "</div>"
      ],
      "text/plain": [
       "              KTPH          KKH          CGH          SGH         TTSH  \\\n",
       "count  6002.000000  7897.000000  7064.000000  6482.000000  7423.000000   \n",
       "mean     34.179762     7.077221   174.935742    99.166505     7.473360   \n",
       "std      27.340213    17.836609   450.748449   350.262948     6.244866   \n",
       "min       0.333333     0.016667     0.016667     0.016667     0.083333   \n",
       "25%      14.404167     1.233333     5.745833     2.433333     3.566667   \n",
       "50%      26.533333     4.166667    12.400000     5.700000     6.083333   \n",
       "75%      46.379167     9.816667    25.137500    12.133333     9.625000   \n",
       "max     194.416667  1438.150000  1440.000000  1440.000000   127.316667   \n",
       "\n",
       "                AH          NUH  \n",
       "count  2100.000000  4864.000000  \n",
       "mean    594.082714    42.252752  \n",
       "std     704.937491    68.331628  \n",
       "min       0.050000     0.016667  \n",
       "25%       4.445833    17.200000  \n",
       "50%      11.000000    31.291667  \n",
       "75%    1439.400000    53.441667  \n",
       "max    1440.000000  1440.000000  "
      ]
     },
     "execution_count": 101,
     "metadata": {},
     "output_type": "execute_result"
    }
   ],
   "source": [
    "hos_subset=[]\n",
    "for hos in df['Hospital_Name'].unique():\n",
    "    hos_subset.append(df.loc[df['Hospital_Name']==hos, 'wait_min'])\n",
    "\n",
    "df_hos=pd.DataFrame(hos_subset,index=df['Hospital_Name'].unique())\n",
    "df_hos.transpose().describe()"
   ]
  },
  {
   "cell_type": "code",
   "execution_count": 103,
   "id": "bfc63f2b",
   "metadata": {},
   "outputs": [
    {
     "data": {
      "text/html": [
       "<div>\n",
       "<style scoped>\n",
       "    .dataframe tbody tr th:only-of-type {\n",
       "        vertical-align: middle;\n",
       "    }\n",
       "\n",
       "    .dataframe tbody tr th {\n",
       "        vertical-align: top;\n",
       "    }\n",
       "\n",
       "    .dataframe thead th {\n",
       "        text-align: right;\n",
       "    }\n",
       "</style>\n",
       "<table border=\"1\" class=\"dataframe\">\n",
       "  <thead>\n",
       "    <tr style=\"text-align: right;\">\n",
       "      <th></th>\n",
       "      <th>Case</th>\n",
       "      <th>Hospital_Name</th>\n",
       "      <th>REGIS_DATE</th>\n",
       "      <th>REGIS_TIME</th>\n",
       "      <th>reg_sec</th>\n",
       "      <th>Triage Time</th>\n",
       "      <th>triage_sec</th>\n",
       "      <th>Triage_Class</th>\n",
       "      <th>Age</th>\n",
       "      <th>Gender</th>\n",
       "      <th>Race</th>\n",
       "      <th>wait_time</th>\n",
       "      <th>wait_min</th>\n",
       "    </tr>\n",
       "  </thead>\n",
       "  <tbody>\n",
       "    <tr>\n",
       "      <th>26</th>\n",
       "      <td>126209</td>\n",
       "      <td>SGH</td>\n",
       "      <td>29/10/2011</td>\n",
       "      <td>86376</td>\n",
       "      <td>78264</td>\n",
       "      <td>21:44:00</td>\n",
       "      <td>78240</td>\n",
       "      <td>P2</td>\n",
       "      <td>31.0</td>\n",
       "      <td>M</td>\n",
       "      <td>Chinese</td>\n",
       "      <td>86376</td>\n",
       "      <td>1439.600000</td>\n",
       "    </tr>\n",
       "    <tr>\n",
       "      <th>42</th>\n",
       "      <td>26102</td>\n",
       "      <td>AH</td>\n",
       "      <td>19/04/2012</td>\n",
       "      <td>86394</td>\n",
       "      <td>52566</td>\n",
       "      <td>14:36:00</td>\n",
       "      <td>52560</td>\n",
       "      <td>P3</td>\n",
       "      <td>26.0</td>\n",
       "      <td>M</td>\n",
       "      <td>Others</td>\n",
       "      <td>86394</td>\n",
       "      <td>1439.900000</td>\n",
       "    </tr>\n",
       "    <tr>\n",
       "      <th>50</th>\n",
       "      <td>31739</td>\n",
       "      <td>CGH</td>\n",
       "      <td>11/10/2011</td>\n",
       "      <td>86302</td>\n",
       "      <td>67358</td>\n",
       "      <td>18:41:00</td>\n",
       "      <td>67260</td>\n",
       "      <td>P3</td>\n",
       "      <td>31.0</td>\n",
       "      <td>F</td>\n",
       "      <td>Malay</td>\n",
       "      <td>86302</td>\n",
       "      <td>1438.366667</td>\n",
       "    </tr>\n",
       "    <tr>\n",
       "      <th>69</th>\n",
       "      <td>29179</td>\n",
       "      <td>CGH</td>\n",
       "      <td>5/10/2011</td>\n",
       "      <td>86279</td>\n",
       "      <td>33361</td>\n",
       "      <td>9:14:00</td>\n",
       "      <td>33240</td>\n",
       "      <td>P3</td>\n",
       "      <td>21.0</td>\n",
       "      <td>M</td>\n",
       "      <td>Chinese</td>\n",
       "      <td>86279</td>\n",
       "      <td>1437.983333</td>\n",
       "    </tr>\n",
       "    <tr>\n",
       "      <th>75</th>\n",
       "      <td>2057</td>\n",
       "      <td>CGH</td>\n",
       "      <td>19/10/2011</td>\n",
       "      <td>86380</td>\n",
       "      <td>22880</td>\n",
       "      <td>6:21:00</td>\n",
       "      <td>22860</td>\n",
       "      <td>P2</td>\n",
       "      <td>30.0</td>\n",
       "      <td>M</td>\n",
       "      <td>Chinese</td>\n",
       "      <td>86380</td>\n",
       "      <td>1439.666667</td>\n",
       "    </tr>\n",
       "  </tbody>\n",
       "</table>\n",
       "</div>"
      ],
      "text/plain": [
       "      Case Hospital_Name  REGIS_DATE  REGIS_TIME  reg_sec Triage Time  \\\n",
       "26  126209           SGH  29/10/2011       86376    78264    21:44:00   \n",
       "42   26102            AH  19/04/2012       86394    52566    14:36:00   \n",
       "50   31739           CGH  11/10/2011       86302    67358    18:41:00   \n",
       "69   29179           CGH   5/10/2011       86279    33361     9:14:00   \n",
       "75    2057           CGH  19/10/2011       86380    22880     6:21:00   \n",
       "\n",
       "    triage_sec Triage_Class    Age Gender     Race  wait_time     wait_min  \n",
       "26       78240            P2  31.0      M  Chinese      86376  1439.600000  \n",
       "42       52560            P3  26.0      M   Others      86394  1439.900000  \n",
       "50       67260            P3  31.0      F    Malay      86302  1438.366667  \n",
       "69       33240            P3  21.0      M  Chinese      86279  1437.983333  \n",
       "75       22860            P2  30.0      M  Chinese      86380  1439.666667  "
      ]
     },
     "execution_count": 103,
     "metadata": {},
     "output_type": "execute_result"
    }
   ],
   "source": [
    "filter_check = df['wait_min'] >300\n",
    "df_check = df.loc [filter_check]\n",
    "df_check.head()"
   ]
  },
  {
   "cell_type": "code",
   "execution_count": null,
   "id": "ec419c9e",
   "metadata": {},
   "outputs": [],
   "source": [
    "## Question 3"
   ]
  },
  {
   "cell_type": "markdown",
   "id": "b983bc6e",
   "metadata": {},
   "source": [
    "To make a staffing plan, which decides the number of nurses and doctors needed to serve patients, a deep understanding of patient arrivals is crucial. The staffing plan in practice will be made on an hourly basis (24 intervals) every day. Thus, please create a new column, REGIS_HOUR in df. Moreover, the patients’ arrival pattern may vary by the day of a month. Please also create a new column, REGIS_DAY in df."
   ]
  },
  {
   "cell_type": "code",
   "execution_count": 109,
   "id": "811cf0dd",
   "metadata": {},
   "outputs": [
    {
     "ename": "SyntaxError",
     "evalue": "invalid syntax (Temp/ipykernel_592/3884627139.py, line 6)",
     "output_type": "error",
     "traceback": [
      "\u001b[1;36m  File \u001b[1;32m\"C:\\Users\\z0024yfj\\AppData\\Local\\Temp/ipykernel_592/3884627139.py\"\u001b[1;36m, line \u001b[1;32m6\u001b[0m\n\u001b[1;33m    for i range(0,df.shape[0]):\u001b[0m\n\u001b[1;37m          ^\u001b[0m\n\u001b[1;31mSyntaxError\u001b[0m\u001b[1;31m:\u001b[0m invalid syntax\n"
     ]
    }
   ],
   "source": [
    "import numpy as np\n",
    "date = np.zeros(df.shape[0] ,int)\n",
    "time = np.zeros(df.shape[0] ,int)\n",
    "year = np.zeros(df.shape[0] ,int)\n",
    "\n",
    "for i range(0,df.shape[0]):\n",
    "    dd,mm,yy = df.loc[i] and ['REGIS_DATE'] split \"/\""
   ]
  },
  {
   "cell_type": "code",
   "execution_count": 1,
   "id": "06b8a805",
   "metadata": {},
   "outputs": [
    {
     "ename": "NameError",
     "evalue": "name 'df' is not defined",
     "output_type": "error",
     "traceback": [
      "\u001b[1;31m---------------------------------------------------------------------------\u001b[0m",
      "\u001b[1;31mNameError\u001b[0m                                 Traceback (most recent call last)",
      "\u001b[1;32m~\\AppData\\Local\\Temp/ipykernel_39700/4046664111.py\u001b[0m in \u001b[0;36m<module>\u001b[1;34m\u001b[0m\n\u001b[0;32m      1\u001b[0m \u001b[1;32mimport\u001b[0m \u001b[0mnumpy\u001b[0m \u001b[1;32mas\u001b[0m \u001b[0mnp\u001b[0m\u001b[1;33m\u001b[0m\u001b[1;33m\u001b[0m\u001b[0m\n\u001b[1;32m----> 2\u001b[1;33m \u001b[0mdate\u001b[0m \u001b[1;33m=\u001b[0m \u001b[0mnp\u001b[0m\u001b[1;33m.\u001b[0m\u001b[0mzeros\u001b[0m\u001b[1;33m(\u001b[0m\u001b[0mdf\u001b[0m\u001b[1;33m.\u001b[0m\u001b[0mshape\u001b[0m\u001b[1;33m[\u001b[0m\u001b[1;36m0\u001b[0m\u001b[1;33m]\u001b[0m \u001b[1;33m,\u001b[0m\u001b[0mint\u001b[0m\u001b[1;33m)\u001b[0m\u001b[1;33m\u001b[0m\u001b[1;33m\u001b[0m\u001b[0m\n\u001b[0m\u001b[0;32m      3\u001b[0m \u001b[0mtime\u001b[0m \u001b[1;33m=\u001b[0m \u001b[0mnp\u001b[0m\u001b[1;33m.\u001b[0m\u001b[0mzeros\u001b[0m\u001b[1;33m(\u001b[0m\u001b[0mdf\u001b[0m\u001b[1;33m.\u001b[0m\u001b[0mshape\u001b[0m\u001b[1;33m[\u001b[0m\u001b[1;36m0\u001b[0m\u001b[1;33m]\u001b[0m \u001b[1;33m,\u001b[0m\u001b[0mint\u001b[0m\u001b[1;33m)\u001b[0m\u001b[1;33m\u001b[0m\u001b[1;33m\u001b[0m\u001b[0m\n\u001b[0;32m      4\u001b[0m \u001b[0myear\u001b[0m \u001b[1;33m=\u001b[0m \u001b[0mnp\u001b[0m\u001b[1;33m.\u001b[0m\u001b[0mzeros\u001b[0m\u001b[1;33m(\u001b[0m\u001b[0mdf\u001b[0m\u001b[1;33m.\u001b[0m\u001b[0mshape\u001b[0m\u001b[1;33m[\u001b[0m\u001b[1;36m0\u001b[0m\u001b[1;33m]\u001b[0m \u001b[1;33m,\u001b[0m\u001b[0mint\u001b[0m\u001b[1;33m)\u001b[0m\u001b[1;33m\u001b[0m\u001b[1;33m\u001b[0m\u001b[0m\n",
      "\u001b[1;31mNameError\u001b[0m: name 'df' is not defined"
     ]
    }
   ],
   "source": [
    "import numpy as np\n",
    "date = np.zeros(df.shape[0] ,int)\n",
    "time = np.zeros(df.shape[0] ,int)\n",
    "year = np.zeros(df.shape[0] ,int)"
   ]
  },
  {
   "cell_type": "code",
   "execution_count": null,
   "id": "675102a2",
   "metadata": {},
   "outputs": [],
   "source": []
  }
 ],
 "metadata": {
  "kernelspec": {
   "display_name": "Python 3 (ipykernel)",
   "language": "python",
   "name": "python3"
  },
  "language_info": {
   "codemirror_mode": {
    "name": "ipython",
    "version": 3
   },
   "file_extension": ".py",
   "mimetype": "text/x-python",
   "name": "python",
   "nbconvert_exporter": "python",
   "pygments_lexer": "ipython3",
   "version": "3.9.7"
  }
 },
 "nbformat": 4,
 "nbformat_minor": 5
}
